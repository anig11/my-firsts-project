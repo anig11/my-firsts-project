{
 "cells": [
  {
   "cell_type": "markdown",
   "metadata": {},
   "source": [
    "### Цель исследования:\n",
    "Проанализировать базу данных с информацией о книгах, авторах книг, издательствах и пользовательских обзорах книг.\n",
    "Это поможет нам в перспективе сфорировать ценностное предложение нового сервиса для любитей читать.  "
   ]
  },
  {
   "cell_type": "markdown",
   "metadata": {},
   "source": [
    "###### План работы:\n",
    "- 1) Импортировать необходимые библиотеки. Создать коннекцию к базе.\n",
    "- 2) Знакомство с данными. Исследовать таблицы (вывести первые строки).\n",
    "- 3) Посчитайте количество книг, выпущенных после 1 января 2000 года.\n",
    "- 4) Посчитать количество пользовательских обзоров и среднюю оценку для каждой книги.\n",
    "- 5) Определить издательство, которое издало наибольшее число книг толще 50 страниц.\n",
    "- 6) Определить автора с самой высокой средней оценкой книг — учитывайте только книги с 50 и более пользовательскими оценками.\n",
    "- 7) Посчитайть среднее количество текстовых обзоров пользователей, которые поставили более чем по 50 оценок."
   ]
  },
  {
   "cell_type": "markdown",
   "metadata": {},
   "source": [
    "###### Данных:\n",
    "Таблица **books**:\n",
    "\n",
    "Содержит данные о книгах:\n",
    "* book_id — идентификатор книги;\n",
    "* author_id — идентификатор автора;\n",
    "* title — название книги;\n",
    "* num_pages — количество страниц;\n",
    "* publication_date — дата публикации книги;\n",
    "* publisher_id — идентификатор издателя.\n",
    "\n",
    "Таблица **authors**:\n",
    "\n",
    "Содержит данные об авторах:\n",
    "* author_id — идентификатор автора;\n",
    "* author — имя автора.\n",
    "\n",
    "Таблица **publishers**:\n",
    "\n",
    "Содержит данные об издательствах:\n",
    "* publisher_id — идентификатор издательства;\n",
    "* publisher — название издательства;\n",
    "\n",
    "Таблица **ratings**:\n",
    "\n",
    "Содержит данные о пользовательских оценках книг:\n",
    "* rating_id — идентификатор оценки;\n",
    "* book_id — идентификатор книги;\n",
    "* username — имя пользователя, оставившего оценку;\n",
    "* rating — оценка книги.\n",
    "\n",
    "Таблица **reviews**:\n",
    "\n",
    "Содержит данные о пользовательских обзорах:\n",
    "* view_id — идентификатор обзора;\n",
    "* book_id — идентификатор книги;\n",
    "* username — имя автора обзора;\n",
    "* text — текст обзора."
   ]
  },
  {
   "cell_type": "markdown",
   "metadata": {},
   "source": [
    "###### 1) Импортировать необходимые библиотеки. Создать коннекцию к базе."
   ]
  },
  {
   "cell_type": "code",
   "execution_count": 1,
   "metadata": {},
   "outputs": [],
   "source": [
    "import warnings \n",
    "import pandas as pd\n",
    "from sqlalchemy import create_engine\n",
    "warnings.filterwarnings(\"ignore\")\n",
    "pd.options.display.max_rows = 999\n",
    "pd.set_option('display.max_colwidth', -1)"
   ]
  },
  {
   "cell_type": "code",
   "execution_count": 2,
   "metadata": {},
   "outputs": [],
   "source": [
    "db_config = {'user': 'praktikum_student', \n",
    "             'pwd': 'Sdf4$2;d-d30pp',\n",
    "             'host': 'rc1b-wcoijxj3yxfsf3fs.mdb.yandexcloud.net',\n",
    "             'port': 6432, \n",
    "             'db': 'data-analyst-final-project-db'} \n",
    "connection_string = 'postgresql://{}:{}@{}:{}/{}'.format(db_config['user'],\n",
    "                                                         db_config['pwd'],\n",
    "                                                         db_config['host'],\n",
    "                                                         db_config['port'],\n",
    "                                                         db_config['db'])\n",
    "query_books = \"\"\"\n",
    "SELECT *\n",
    "FROM books;  \n",
    "\"\"\"\n",
    "engine = create_engine(connection_string, connect_args={'sslmode':'require'})\n",
    "books = pd.io.sql.read_sql(query_books, con = engine)\n",
    "\n",
    "query_authors = \"\"\"\n",
    "SELECT *\n",
    "FROM authors;  \n",
    "\"\"\"\n",
    "engine = create_engine(connection_string, connect_args={'sslmode':'require'})\n",
    "authors = pd.io.sql.read_sql(query_authors, con = engine)\n",
    "\n",
    "query_publishers = \"\"\"\n",
    "SELECT *\n",
    "FROM publishers;  \n",
    "\"\"\"\n",
    "engine = create_engine(connection_string, connect_args={'sslmode':'require'})\n",
    "publishers = pd.io.sql.read_sql(query_publishers, con = engine)\n",
    "\n",
    "query_ratings = \"\"\"\n",
    "SELECT *\n",
    "FROM ratings;  \n",
    "\"\"\"\n",
    "engine = create_engine(connection_string, connect_args={'sslmode':'require'})\n",
    "ratings = pd.io.sql.read_sql(query_ratings, con = engine)\n",
    "\n",
    "query_reviews = \"\"\"\n",
    "SELECT *\n",
    "FROM reviews;  \n",
    "\"\"\"\n",
    "engine = create_engine(connection_string, connect_args={'sslmode':'require'})\n",
    "reviews = pd.io.sql.read_sql(query_reviews, con = engine)"
   ]
  },
  {
   "cell_type": "markdown",
   "metadata": {},
   "source": [
    "###### 2) Знакомство с данными. Исследовать таблицы (вывести первые строки)."
   ]
  },
  {
   "cell_type": "code",
   "execution_count": 3,
   "metadata": {},
   "outputs": [
    {
     "data": {
      "text/html": [
       "<div>\n",
       "<style scoped>\n",
       "    .dataframe tbody tr th:only-of-type {\n",
       "        vertical-align: middle;\n",
       "    }\n",
       "\n",
       "    .dataframe tbody tr th {\n",
       "        vertical-align: top;\n",
       "    }\n",
       "\n",
       "    .dataframe thead th {\n",
       "        text-align: right;\n",
       "    }\n",
       "</style>\n",
       "<table border=\"1\" class=\"dataframe\">\n",
       "  <thead>\n",
       "    <tr style=\"text-align: right;\">\n",
       "      <th></th>\n",
       "      <th>book_id</th>\n",
       "      <th>author_id</th>\n",
       "      <th>title</th>\n",
       "      <th>num_pages</th>\n",
       "      <th>publication_date</th>\n",
       "      <th>publisher_id</th>\n",
       "    </tr>\n",
       "  </thead>\n",
       "  <tbody>\n",
       "    <tr>\n",
       "      <td>0</td>\n",
       "      <td>1</td>\n",
       "      <td>546</td>\n",
       "      <td>'Salem's Lot</td>\n",
       "      <td>594</td>\n",
       "      <td>2005-11-01</td>\n",
       "      <td>93</td>\n",
       "    </tr>\n",
       "    <tr>\n",
       "      <td>1</td>\n",
       "      <td>2</td>\n",
       "      <td>465</td>\n",
       "      <td>1 000 Places to See Before You Die</td>\n",
       "      <td>992</td>\n",
       "      <td>2003-05-22</td>\n",
       "      <td>336</td>\n",
       "    </tr>\n",
       "    <tr>\n",
       "      <td>2</td>\n",
       "      <td>3</td>\n",
       "      <td>407</td>\n",
       "      <td>13 Little Blue Envelopes (Little Blue Envelope  #1)</td>\n",
       "      <td>322</td>\n",
       "      <td>2010-12-21</td>\n",
       "      <td>135</td>\n",
       "    </tr>\n",
       "    <tr>\n",
       "      <td>3</td>\n",
       "      <td>4</td>\n",
       "      <td>82</td>\n",
       "      <td>1491: New Revelations of the Americas Before Columbus</td>\n",
       "      <td>541</td>\n",
       "      <td>2006-10-10</td>\n",
       "      <td>309</td>\n",
       "    </tr>\n",
       "    <tr>\n",
       "      <td>4</td>\n",
       "      <td>5</td>\n",
       "      <td>125</td>\n",
       "      <td>1776</td>\n",
       "      <td>386</td>\n",
       "      <td>2006-07-04</td>\n",
       "      <td>268</td>\n",
       "    </tr>\n",
       "  </tbody>\n",
       "</table>\n",
       "</div>"
      ],
      "text/plain": [
       "   book_id  author_id                                                  title  \\\n",
       "0  1        546        'Salem's Lot                                            \n",
       "1  2        465        1 000 Places to See Before You Die                      \n",
       "2  3        407        13 Little Blue Envelopes (Little Blue Envelope  #1)     \n",
       "3  4        82         1491: New Revelations of the Americas Before Columbus   \n",
       "4  5        125        1776                                                    \n",
       "\n",
       "   num_pages publication_date  publisher_id  \n",
       "0  594        2005-11-01       93            \n",
       "1  992        2003-05-22       336           \n",
       "2  322        2010-12-21       135           \n",
       "3  541        2006-10-10       309           \n",
       "4  386        2006-07-04       268           "
      ]
     },
     "execution_count": 3,
     "metadata": {},
     "output_type": "execute_result"
    }
   ],
   "source": [
    "books.head(5)"
   ]
  },
  {
   "cell_type": "code",
   "execution_count": 4,
   "metadata": {},
   "outputs": [
    {
     "data": {
      "text/html": [
       "<div>\n",
       "<style scoped>\n",
       "    .dataframe tbody tr th:only-of-type {\n",
       "        vertical-align: middle;\n",
       "    }\n",
       "\n",
       "    .dataframe tbody tr th {\n",
       "        vertical-align: top;\n",
       "    }\n",
       "\n",
       "    .dataframe thead th {\n",
       "        text-align: right;\n",
       "    }\n",
       "</style>\n",
       "<table border=\"1\" class=\"dataframe\">\n",
       "  <thead>\n",
       "    <tr style=\"text-align: right;\">\n",
       "      <th></th>\n",
       "      <th>author_id</th>\n",
       "      <th>author</th>\n",
       "    </tr>\n",
       "  </thead>\n",
       "  <tbody>\n",
       "    <tr>\n",
       "      <td>0</td>\n",
       "      <td>1</td>\n",
       "      <td>A.S. Byatt</td>\n",
       "    </tr>\n",
       "    <tr>\n",
       "      <td>1</td>\n",
       "      <td>2</td>\n",
       "      <td>Aesop/Laura Harris/Laura Gibbs</td>\n",
       "    </tr>\n",
       "    <tr>\n",
       "      <td>2</td>\n",
       "      <td>3</td>\n",
       "      <td>Agatha Christie</td>\n",
       "    </tr>\n",
       "    <tr>\n",
       "      <td>3</td>\n",
       "      <td>4</td>\n",
       "      <td>Alan Brennert</td>\n",
       "    </tr>\n",
       "    <tr>\n",
       "      <td>4</td>\n",
       "      <td>5</td>\n",
       "      <td>Alan Moore/David   Lloyd</td>\n",
       "    </tr>\n",
       "  </tbody>\n",
       "</table>\n",
       "</div>"
      ],
      "text/plain": [
       "   author_id                          author\n",
       "0  1          A.S. Byatt                    \n",
       "1  2          Aesop/Laura Harris/Laura Gibbs\n",
       "2  3          Agatha Christie               \n",
       "3  4          Alan Brennert                 \n",
       "4  5          Alan Moore/David   Lloyd      "
      ]
     },
     "execution_count": 4,
     "metadata": {},
     "output_type": "execute_result"
    }
   ],
   "source": [
    "authors.head(5)"
   ]
  },
  {
   "cell_type": "code",
   "execution_count": 5,
   "metadata": {},
   "outputs": [
    {
     "data": {
      "text/html": [
       "<div>\n",
       "<style scoped>\n",
       "    .dataframe tbody tr th:only-of-type {\n",
       "        vertical-align: middle;\n",
       "    }\n",
       "\n",
       "    .dataframe tbody tr th {\n",
       "        vertical-align: top;\n",
       "    }\n",
       "\n",
       "    .dataframe thead th {\n",
       "        text-align: right;\n",
       "    }\n",
       "</style>\n",
       "<table border=\"1\" class=\"dataframe\">\n",
       "  <thead>\n",
       "    <tr style=\"text-align: right;\">\n",
       "      <th></th>\n",
       "      <th>publisher_id</th>\n",
       "      <th>publisher</th>\n",
       "    </tr>\n",
       "  </thead>\n",
       "  <tbody>\n",
       "    <tr>\n",
       "      <td>0</td>\n",
       "      <td>1</td>\n",
       "      <td>Ace</td>\n",
       "    </tr>\n",
       "    <tr>\n",
       "      <td>1</td>\n",
       "      <td>2</td>\n",
       "      <td>Ace Book</td>\n",
       "    </tr>\n",
       "    <tr>\n",
       "      <td>2</td>\n",
       "      <td>3</td>\n",
       "      <td>Ace Books</td>\n",
       "    </tr>\n",
       "    <tr>\n",
       "      <td>3</td>\n",
       "      <td>4</td>\n",
       "      <td>Ace Hardcover</td>\n",
       "    </tr>\n",
       "    <tr>\n",
       "      <td>4</td>\n",
       "      <td>5</td>\n",
       "      <td>Addison Wesley Publishing Company</td>\n",
       "    </tr>\n",
       "  </tbody>\n",
       "</table>\n",
       "</div>"
      ],
      "text/plain": [
       "   publisher_id                          publisher\n",
       "0  1             Ace                              \n",
       "1  2             Ace Book                         \n",
       "2  3             Ace Books                        \n",
       "3  4             Ace Hardcover                    \n",
       "4  5             Addison Wesley Publishing Company"
      ]
     },
     "execution_count": 5,
     "metadata": {},
     "output_type": "execute_result"
    }
   ],
   "source": [
    "publishers.head(5)"
   ]
  },
  {
   "cell_type": "code",
   "execution_count": 6,
   "metadata": {},
   "outputs": [
    {
     "data": {
      "text/html": [
       "<div>\n",
       "<style scoped>\n",
       "    .dataframe tbody tr th:only-of-type {\n",
       "        vertical-align: middle;\n",
       "    }\n",
       "\n",
       "    .dataframe tbody tr th {\n",
       "        vertical-align: top;\n",
       "    }\n",
       "\n",
       "    .dataframe thead th {\n",
       "        text-align: right;\n",
       "    }\n",
       "</style>\n",
       "<table border=\"1\" class=\"dataframe\">\n",
       "  <thead>\n",
       "    <tr style=\"text-align: right;\">\n",
       "      <th></th>\n",
       "      <th>rating_id</th>\n",
       "      <th>book_id</th>\n",
       "      <th>username</th>\n",
       "      <th>rating</th>\n",
       "    </tr>\n",
       "  </thead>\n",
       "  <tbody>\n",
       "    <tr>\n",
       "      <td>0</td>\n",
       "      <td>1</td>\n",
       "      <td>1</td>\n",
       "      <td>ryanfranco</td>\n",
       "      <td>4</td>\n",
       "    </tr>\n",
       "    <tr>\n",
       "      <td>1</td>\n",
       "      <td>2</td>\n",
       "      <td>1</td>\n",
       "      <td>grantpatricia</td>\n",
       "      <td>2</td>\n",
       "    </tr>\n",
       "    <tr>\n",
       "      <td>2</td>\n",
       "      <td>3</td>\n",
       "      <td>1</td>\n",
       "      <td>brandtandrea</td>\n",
       "      <td>5</td>\n",
       "    </tr>\n",
       "    <tr>\n",
       "      <td>3</td>\n",
       "      <td>4</td>\n",
       "      <td>2</td>\n",
       "      <td>lorichen</td>\n",
       "      <td>3</td>\n",
       "    </tr>\n",
       "    <tr>\n",
       "      <td>4</td>\n",
       "      <td>5</td>\n",
       "      <td>2</td>\n",
       "      <td>mariokeller</td>\n",
       "      <td>2</td>\n",
       "    </tr>\n",
       "  </tbody>\n",
       "</table>\n",
       "</div>"
      ],
      "text/plain": [
       "   rating_id  book_id       username  rating\n",
       "0  1          1        ryanfranco     4     \n",
       "1  2          1        grantpatricia  2     \n",
       "2  3          1        brandtandrea   5     \n",
       "3  4          2        lorichen       3     \n",
       "4  5          2        mariokeller    2     "
      ]
     },
     "execution_count": 6,
     "metadata": {},
     "output_type": "execute_result"
    }
   ],
   "source": [
    "ratings.head(5)"
   ]
  },
  {
   "cell_type": "code",
   "execution_count": 7,
   "metadata": {},
   "outputs": [
    {
     "data": {
      "text/html": [
       "<div>\n",
       "<style scoped>\n",
       "    .dataframe tbody tr th:only-of-type {\n",
       "        vertical-align: middle;\n",
       "    }\n",
       "\n",
       "    .dataframe tbody tr th {\n",
       "        vertical-align: top;\n",
       "    }\n",
       "\n",
       "    .dataframe thead th {\n",
       "        text-align: right;\n",
       "    }\n",
       "</style>\n",
       "<table border=\"1\" class=\"dataframe\">\n",
       "  <thead>\n",
       "    <tr style=\"text-align: right;\">\n",
       "      <th></th>\n",
       "      <th>review_id</th>\n",
       "      <th>book_id</th>\n",
       "      <th>username</th>\n",
       "      <th>text</th>\n",
       "    </tr>\n",
       "  </thead>\n",
       "  <tbody>\n",
       "    <tr>\n",
       "      <td>0</td>\n",
       "      <td>1</td>\n",
       "      <td>1</td>\n",
       "      <td>brandtandrea</td>\n",
       "      <td>Mention society tell send professor analysis. Over provide race technology continue these.</td>\n",
       "    </tr>\n",
       "    <tr>\n",
       "      <td>1</td>\n",
       "      <td>2</td>\n",
       "      <td>1</td>\n",
       "      <td>ryanfranco</td>\n",
       "      <td>Foot glass pretty audience hit themselves. Among admit investment argue security.</td>\n",
       "    </tr>\n",
       "    <tr>\n",
       "      <td>2</td>\n",
       "      <td>3</td>\n",
       "      <td>2</td>\n",
       "      <td>lorichen</td>\n",
       "      <td>Listen treat keep worry. Miss husband tax but person sport treatment industry. Kitchen decision deep the. Social party body the.</td>\n",
       "    </tr>\n",
       "    <tr>\n",
       "      <td>3</td>\n",
       "      <td>4</td>\n",
       "      <td>3</td>\n",
       "      <td>johnsonamanda</td>\n",
       "      <td>Finally month interesting blue could nature cultural bit. Prepare beat finish grow that smile teach. Dream me play near.</td>\n",
       "    </tr>\n",
       "    <tr>\n",
       "      <td>4</td>\n",
       "      <td>5</td>\n",
       "      <td>3</td>\n",
       "      <td>scotttamara</td>\n",
       "      <td>Nation purpose heavy give wait song will. List dinner another whole positive radio fast. Music staff many green.</td>\n",
       "    </tr>\n",
       "  </tbody>\n",
       "</table>\n",
       "</div>"
      ],
      "text/plain": [
       "   review_id  book_id       username  \\\n",
       "0  1          1        brandtandrea    \n",
       "1  2          1        ryanfranco      \n",
       "2  3          2        lorichen        \n",
       "3  4          3        johnsonamanda   \n",
       "4  5          3        scotttamara     \n",
       "\n",
       "                                                                                                                               text  \n",
       "0  Mention society tell send professor analysis. Over provide race technology continue these.                                        \n",
       "1  Foot glass pretty audience hit themselves. Among admit investment argue security.                                                 \n",
       "2  Listen treat keep worry. Miss husband tax but person sport treatment industry. Kitchen decision deep the. Social party body the.  \n",
       "3  Finally month interesting blue could nature cultural bit. Prepare beat finish grow that smile teach. Dream me play near.          \n",
       "4  Nation purpose heavy give wait song will. List dinner another whole positive radio fast. Music staff many green.                  "
      ]
     },
     "execution_count": 7,
     "metadata": {},
     "output_type": "execute_result"
    }
   ],
   "source": [
    "reviews.head(5)"
   ]
  },
  {
   "cell_type": "markdown",
   "metadata": {},
   "source": [
    "###### 3) Посчитать количество книг, выпущенных после 1 января 2000 года."
   ]
  },
  {
   "cell_type": "code",
   "execution_count": 8,
   "metadata": {},
   "outputs": [],
   "source": [
    "query_books_count_books_20000101 = \"\"\"\n",
    "SELECT COUNT(book_id) as count_books\n",
    "FROM books\n",
    "WHERE publication_date  > '2000-01-01';  \n",
    "\"\"\"\n",
    "engine = create_engine(connection_string, connect_args={'sslmode':'require'})\n",
    "books_count = pd.io.sql.read_sql(query_books_count_books_20000101, con = engine)"
   ]
  },
  {
   "cell_type": "code",
   "execution_count": 9,
   "metadata": {},
   "outputs": [
    {
     "data": {
      "text/html": [
       "<div>\n",
       "<style scoped>\n",
       "    .dataframe tbody tr th:only-of-type {\n",
       "        vertical-align: middle;\n",
       "    }\n",
       "\n",
       "    .dataframe tbody tr th {\n",
       "        vertical-align: top;\n",
       "    }\n",
       "\n",
       "    .dataframe thead th {\n",
       "        text-align: right;\n",
       "    }\n",
       "</style>\n",
       "<table border=\"1\" class=\"dataframe\">\n",
       "  <thead>\n",
       "    <tr style=\"text-align: right;\">\n",
       "      <th></th>\n",
       "      <th>count_books</th>\n",
       "    </tr>\n",
       "  </thead>\n",
       "  <tbody>\n",
       "    <tr>\n",
       "      <td>0</td>\n",
       "      <td>819</td>\n",
       "    </tr>\n",
       "  </tbody>\n",
       "</table>\n",
       "</div>"
      ],
      "text/plain": [
       "   count_books\n",
       "0  819        "
      ]
     },
     "execution_count": 9,
     "metadata": {},
     "output_type": "execute_result"
    }
   ],
   "source": [
    "books_count"
   ]
  },
  {
   "cell_type": "markdown",
   "metadata": {},
   "source": [
    "###### Вывод:\n",
    "Количество книг, выпущенных после 1 января 2000 года - 819 шт."
   ]
  },
  {
   "cell_type": "markdown",
   "metadata": {},
   "source": [
    "###### 4) Посчитать количество пользовательских обзоров и среднюю оценку для каждой книги."
   ]
  },
  {
   "cell_type": "code",
   "execution_count": 10,
   "metadata": {},
   "outputs": [],
   "source": [
    "counts_rewiews_and_avg_ratings = \"\"\"\n",
    "SELECT books.book_id as id,\n",
    "       books.title as name,\n",
    "       COUNT(DISTINCT reviews.review_id) as reviews_number,\n",
    "       AVG(ratings.rating) as avg_ratings \n",
    "FROM books\n",
    "INNER JOIN reviews ON reviews.book_id = books.book_id\n",
    "INNER JOIN ratings ON ratings.book_id = books.book_id\n",
    "GROUP BY\n",
    "books.book_id,\n",
    "books.title\n",
    "ORDER BY\n",
    "COUNT(reviews.review_id) DESC;  \n",
    "\"\"\"\n",
    "engine = create_engine(connection_string, connect_args={'sslmode':'require'})\n",
    "rewiews_avg_ratings_count = pd.io.sql.read_sql(counts_rewiews_and_avg_ratings, con = engine)"
   ]
  },
  {
   "cell_type": "code",
   "execution_count": 11,
   "metadata": {
    "scrolled": true
   },
   "outputs": [
    {
     "data": {
      "text/html": [
       "<div>\n",
       "<style scoped>\n",
       "    .dataframe tbody tr th:only-of-type {\n",
       "        vertical-align: middle;\n",
       "    }\n",
       "\n",
       "    .dataframe tbody tr th {\n",
       "        vertical-align: top;\n",
       "    }\n",
       "\n",
       "    .dataframe thead th {\n",
       "        text-align: right;\n",
       "    }\n",
       "</style>\n",
       "<table border=\"1\" class=\"dataframe\">\n",
       "  <thead>\n",
       "    <tr style=\"text-align: right;\">\n",
       "      <th></th>\n",
       "      <th>id</th>\n",
       "      <th>name</th>\n",
       "      <th>reviews_number</th>\n",
       "      <th>avg_ratings</th>\n",
       "    </tr>\n",
       "  </thead>\n",
       "  <tbody>\n",
       "    <tr>\n",
       "      <td>0</td>\n",
       "      <td>948</td>\n",
       "      <td>Twilight (Twilight  #1)</td>\n",
       "      <td>7</td>\n",
       "      <td>3.662500</td>\n",
       "    </tr>\n",
       "    <tr>\n",
       "      <td>1</td>\n",
       "      <td>750</td>\n",
       "      <td>The Hobbit  or There and Back Again</td>\n",
       "      <td>6</td>\n",
       "      <td>4.125000</td>\n",
       "    </tr>\n",
       "    <tr>\n",
       "      <td>2</td>\n",
       "      <td>673</td>\n",
       "      <td>The Catcher in the Rye</td>\n",
       "      <td>6</td>\n",
       "      <td>3.825581</td>\n",
       "    </tr>\n",
       "    <tr>\n",
       "      <td>3</td>\n",
       "      <td>302</td>\n",
       "      <td>Harry Potter and the Prisoner of Azkaban (Harry Potter  #3)</td>\n",
       "      <td>6</td>\n",
       "      <td>4.414634</td>\n",
       "    </tr>\n",
       "    <tr>\n",
       "      <td>4</td>\n",
       "      <td>299</td>\n",
       "      <td>Harry Potter and the Chamber of Secrets (Harry Potter  #2)</td>\n",
       "      <td>6</td>\n",
       "      <td>4.287500</td>\n",
       "    </tr>\n",
       "  </tbody>\n",
       "</table>\n",
       "</div>"
      ],
      "text/plain": [
       "    id                                                         name  \\\n",
       "0  948  Twilight (Twilight  #1)                                       \n",
       "1  750  The Hobbit  or There and Back Again                           \n",
       "2  673  The Catcher in the Rye                                        \n",
       "3  302  Harry Potter and the Prisoner of Azkaban (Harry Potter  #3)   \n",
       "4  299  Harry Potter and the Chamber of Secrets (Harry Potter  #2)    \n",
       "\n",
       "   reviews_number  avg_ratings  \n",
       "0  7               3.662500     \n",
       "1  6               4.125000     \n",
       "2  6               3.825581     \n",
       "3  6               4.414634     \n",
       "4  6               4.287500     "
      ]
     },
     "execution_count": 11,
     "metadata": {},
     "output_type": "execute_result"
    }
   ],
   "source": [
    "rewiews_avg_ratings_count.head()"
   ]
  },
  {
   "cell_type": "code",
   "execution_count": 12,
   "metadata": {},
   "outputs": [
    {
     "data": {
      "text/plain": [
       "2793"
      ]
     },
     "execution_count": 12,
     "metadata": {},
     "output_type": "execute_result"
    }
   ],
   "source": [
    "reviews['review_id'].count()"
   ]
  },
  {
   "cell_type": "code",
   "execution_count": 13,
   "metadata": {},
   "outputs": [
    {
     "data": {
      "text/plain": [
       "2793"
      ]
     },
     "execution_count": 13,
     "metadata": {},
     "output_type": "execute_result"
    }
   ],
   "source": [
    "rewiews_avg_ratings_count['reviews_number'].sum()"
   ]
  },
  {
   "cell_type": "markdown",
   "metadata": {},
   "source": [
    "###### Вывод:\n",
    "- Средние оценки для книг с самым большим количеством обзоров (ТОП - 10) - варьируются от 3.5 до 4.5\n",
    "- Наибольшее количество обзоров получилитакие книги как Twilight, The Hobbit or There and Back Again, The Catcher in the Rye с количеством обзоров 7, 6, 6 соответственно."
   ]
  },
  {
   "cell_type": "markdown",
   "metadata": {},
   "source": [
    "###### 5) Определить издательство, которое издало наибольшее число книг толще 50 страниц."
   ]
  },
  {
   "cell_type": "code",
   "execution_count": 14,
   "metadata": {},
   "outputs": [],
   "source": [
    "request_publisher = \"\"\"\n",
    "SELECT books.publisher_id as id,\n",
    "       publishers.publisher as name_publisher,\n",
    "       COUNT(books.book_id) as cnt_books\n",
    "FROM books\n",
    "INNER JOIN publishers ON publishers.publisher_id  = books.publisher_id \n",
    "WHERE\n",
    "books.num_pages >= 50\n",
    "GROUP BY\n",
    "books.publisher_id,\n",
    "publishers.publisher\n",
    "ORDER BY\n",
    "COUNT(books.book_id) DESC\n",
    "LIMIT\n",
    "5;\n",
    "\"\"\"\n",
    "engine = create_engine(connection_string, connect_args={'sslmode':'require'})\n",
    "publisher = pd.io.sql.read_sql(request_publisher, con = engine)"
   ]
  },
  {
   "cell_type": "code",
   "execution_count": 15,
   "metadata": {},
   "outputs": [
    {
     "data": {
      "text/html": [
       "<div>\n",
       "<style scoped>\n",
       "    .dataframe tbody tr th:only-of-type {\n",
       "        vertical-align: middle;\n",
       "    }\n",
       "\n",
       "    .dataframe tbody tr th {\n",
       "        vertical-align: top;\n",
       "    }\n",
       "\n",
       "    .dataframe thead th {\n",
       "        text-align: right;\n",
       "    }\n",
       "</style>\n",
       "<table border=\"1\" class=\"dataframe\">\n",
       "  <thead>\n",
       "    <tr style=\"text-align: right;\">\n",
       "      <th></th>\n",
       "      <th>id</th>\n",
       "      <th>name_publisher</th>\n",
       "      <th>cnt_books</th>\n",
       "    </tr>\n",
       "  </thead>\n",
       "  <tbody>\n",
       "    <tr>\n",
       "      <td>0</td>\n",
       "      <td>212</td>\n",
       "      <td>Penguin Books</td>\n",
       "      <td>42</td>\n",
       "    </tr>\n",
       "    <tr>\n",
       "      <td>1</td>\n",
       "      <td>309</td>\n",
       "      <td>Vintage</td>\n",
       "      <td>31</td>\n",
       "    </tr>\n",
       "    <tr>\n",
       "      <td>2</td>\n",
       "      <td>116</td>\n",
       "      <td>Grand Central Publishing</td>\n",
       "      <td>25</td>\n",
       "    </tr>\n",
       "    <tr>\n",
       "      <td>3</td>\n",
       "      <td>217</td>\n",
       "      <td>Penguin Classics</td>\n",
       "      <td>24</td>\n",
       "    </tr>\n",
       "    <tr>\n",
       "      <td>4</td>\n",
       "      <td>35</td>\n",
       "      <td>Bantam</td>\n",
       "      <td>19</td>\n",
       "    </tr>\n",
       "  </tbody>\n",
       "</table>\n",
       "</div>"
      ],
      "text/plain": [
       "    id            name_publisher  cnt_books\n",
       "0  212  Penguin Books             42       \n",
       "1  309  Vintage                   31       \n",
       "2  116  Grand Central Publishing  25       \n",
       "3  217  Penguin Classics          24       \n",
       "4  35   Bantam                    19       "
      ]
     },
     "execution_count": 15,
     "metadata": {},
     "output_type": "execute_result"
    }
   ],
   "source": [
    "publisher"
   ]
  },
  {
   "cell_type": "markdown",
   "metadata": {},
   "source": [
    "###### Вывод:\n",
    "Издательство, которое издало наибольшее число книг толще 50 страниц - Penguin Books"
   ]
  },
  {
   "cell_type": "markdown",
   "metadata": {},
   "source": [
    "###### 6) Определить автора с самой высокой средней оценкой книг — учитывайте только книги с 50 и более пользовательскими оценками."
   ]
  },
  {
   "cell_type": "code",
   "execution_count": 16,
   "metadata": {},
   "outputs": [],
   "source": [
    "request_author_ratings = \"\"\"\n",
    "SELECT books.author_id as id,\n",
    "       authors.author as name_author,\n",
    "       AVG(ratings.rating) as avg_ratings \n",
    "FROM books\n",
    "INNER JOIN authors ON authors.author_id = books.author_id\n",
    "INNER JOIN ratings ON ratings.book_id = books.book_id \n",
    "WHERE ratings.book_id IN\n",
    "      (SELECT ratings.book_id \n",
    "      FROM ratings\n",
    "      GROUP BY\n",
    "      ratings.book_id\n",
    "      HAVING \n",
    "      COUNT(ratings.rating_id) >= 50)\n",
    "GROUP BY\n",
    "books.author_id,\n",
    "authors.author\n",
    "ORDER BY\n",
    "AVG(ratings.rating) DESC\n",
    "LIMIT\n",
    "5;\n",
    "\"\"\"\n",
    "engine = create_engine(connection_string, connect_args={'sslmode':'require'})\n",
    "author_ratings_avg_ratings_book = pd.io.sql.read_sql(request_author_ratings, con = engine)"
   ]
  },
  {
   "cell_type": "code",
   "execution_count": 17,
   "metadata": {},
   "outputs": [
    {
     "data": {
      "text/html": [
       "<div>\n",
       "<style scoped>\n",
       "    .dataframe tbody tr th:only-of-type {\n",
       "        vertical-align: middle;\n",
       "    }\n",
       "\n",
       "    .dataframe tbody tr th {\n",
       "        vertical-align: top;\n",
       "    }\n",
       "\n",
       "    .dataframe thead th {\n",
       "        text-align: right;\n",
       "    }\n",
       "</style>\n",
       "<table border=\"1\" class=\"dataframe\">\n",
       "  <thead>\n",
       "    <tr style=\"text-align: right;\">\n",
       "      <th></th>\n",
       "      <th>id</th>\n",
       "      <th>name_author</th>\n",
       "      <th>avg_ratings</th>\n",
       "    </tr>\n",
       "  </thead>\n",
       "  <tbody>\n",
       "    <tr>\n",
       "      <td>0</td>\n",
       "      <td>236</td>\n",
       "      <td>J.K. Rowling/Mary GrandPré</td>\n",
       "      <td>4.287097</td>\n",
       "    </tr>\n",
       "    <tr>\n",
       "      <td>1</td>\n",
       "      <td>402</td>\n",
       "      <td>Markus Zusak/Cao Xuân Việt Khương</td>\n",
       "      <td>4.264151</td>\n",
       "    </tr>\n",
       "    <tr>\n",
       "      <td>2</td>\n",
       "      <td>240</td>\n",
       "      <td>J.R.R. Tolkien</td>\n",
       "      <td>4.246914</td>\n",
       "    </tr>\n",
       "    <tr>\n",
       "      <td>3</td>\n",
       "      <td>376</td>\n",
       "      <td>Louisa May Alcott</td>\n",
       "      <td>4.192308</td>\n",
       "    </tr>\n",
       "    <tr>\n",
       "      <td>4</td>\n",
       "      <td>498</td>\n",
       "      <td>Rick Riordan</td>\n",
       "      <td>4.080645</td>\n",
       "    </tr>\n",
       "  </tbody>\n",
       "</table>\n",
       "</div>"
      ],
      "text/plain": [
       "    id                        name_author  avg_ratings\n",
       "0  236  J.K. Rowling/Mary GrandPré         4.287097   \n",
       "1  402  Markus Zusak/Cao Xuân Việt Khương  4.264151   \n",
       "2  240  J.R.R. Tolkien                     4.246914   \n",
       "3  376  Louisa May Alcott                  4.192308   \n",
       "4  498  Rick Riordan                       4.080645   "
      ]
     },
     "execution_count": 17,
     "metadata": {},
     "output_type": "execute_result"
    }
   ],
   "source": [
    "author_ratings_avg_ratings_book"
   ]
  },
  {
   "cell_type": "markdown",
   "metadata": {},
   "source": [
    "###### Вывод:\n",
    "Автор с самой высокой средней оценкой книг (4.3) - J.K. Rowling/Mary GrandPré. Примечание: учитывались только книги с 50 и более пользовательскими оценками."
   ]
  },
  {
   "cell_type": "markdown",
   "metadata": {},
   "source": [
    "###### 7) Посчитать среднее количество текстовых обзоров пользователей, которые поставили более чем по 50 оценок."
   ]
  },
  {
   "cell_type": "code",
   "execution_count": 18,
   "metadata": {},
   "outputs": [],
   "source": [
    "request_avg_reviews = \"\"\"\n",
    "SELECT COUNT(reviews.review_id) / COUNT(DISTINCT reviews.username) as reviews  \n",
    "FROM ratings\n",
    "LEFT JOIN reviews ON reviews.review_id = ratings.rating_id \n",
    "WHERE reviews.username IN \n",
    "      (SELECT ratings.username\n",
    "      FROM ratings\n",
    "      GROUP BY\n",
    "      ratings.username\n",
    "      HAVING \n",
    "      COUNT(ratings.rating_id) > 50);\n",
    "\"\"\"\n",
    "engine = create_engine(connection_string, connect_args={'sslmode':'require'})\n",
    "avg_reviews = pd.io.sql.read_sql(request_avg_reviews, con = engine)"
   ]
  },
  {
   "cell_type": "code",
   "execution_count": 19,
   "metadata": {},
   "outputs": [
    {
     "data": {
      "text/html": [
       "<div>\n",
       "<style scoped>\n",
       "    .dataframe tbody tr th:only-of-type {\n",
       "        vertical-align: middle;\n",
       "    }\n",
       "\n",
       "    .dataframe tbody tr th {\n",
       "        vertical-align: top;\n",
       "    }\n",
       "\n",
       "    .dataframe thead th {\n",
       "        text-align: right;\n",
       "    }\n",
       "</style>\n",
       "<table border=\"1\" class=\"dataframe\">\n",
       "  <thead>\n",
       "    <tr style=\"text-align: right;\">\n",
       "      <th></th>\n",
       "      <th>reviews</th>\n",
       "    </tr>\n",
       "  </thead>\n",
       "  <tbody>\n",
       "    <tr>\n",
       "      <td>0</td>\n",
       "      <td>24</td>\n",
       "    </tr>\n",
       "  </tbody>\n",
       "</table>\n",
       "</div>"
      ],
      "text/plain": [
       "   reviews\n",
       "0  24     "
      ]
     },
     "execution_count": 19,
     "metadata": {},
     "output_type": "execute_result"
    }
   ],
   "source": [
    "avg_reviews"
   ]
  },
  {
   "cell_type": "markdown",
   "metadata": {},
   "source": [
    "###### Вывод:\n",
    "Среднее количество текстовых обзоров пользователей, которые поставили более чем по 50 оценок - 24 обзора."
   ]
  },
  {
   "cell_type": "code",
   "execution_count": null,
   "metadata": {},
   "outputs": [],
   "source": []
  }
 ],
 "metadata": {
  "kernelspec": {
   "display_name": "Python 3",
   "language": "python",
   "name": "python3"
  },
  "language_info": {
   "codemirror_mode": {
    "name": "ipython",
    "version": 3
   },
   "file_extension": ".py",
   "mimetype": "text/x-python",
   "name": "python",
   "nbconvert_exporter": "python",
   "pygments_lexer": "ipython3",
   "version": "3.7.6"
  }
 },
 "nbformat": 4,
 "nbformat_minor": 2
}
