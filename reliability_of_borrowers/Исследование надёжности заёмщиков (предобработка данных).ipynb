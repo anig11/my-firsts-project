{
 "cells": [
  {
   "cell_type": "markdown",
   "metadata": {},
   "source": [
    "## Исследование надёжности заёмщиков\n",
    "\n",
    "Заказчик — кредитный отдел банка. Нужно разобраться, влияет ли семейное положение и количество детей клиента на факт погашения кредита в срок. Входные данные от банка — статистика о платёжеспособности клиентов.\n",
    "\n",
    "Результаты исследования будут учтены при построении модели **кредитного скоринга** — специальной системы, которая оценивает способность потенциального заёмщика вернуть кредит банку."
   ]
  },
  {
   "cell_type": "markdown",
   "metadata": {},
   "source": [
    "###### План работы:\n",
    "- 1) Открытие файла с данными и изучение общуей информации.\n",
    "- 2) Предобработка данных.\n",
    "- 3) Ответим на следующие вопросы:\n",
    "   - Есть ли зависимость между наличием детей и возвратом кредита в срок?\n",
    "   - Есть ли зависимость между семейным положением и возвратом кредита в срок?\n",
    "   - Есть ли зависимость между уровнем дохода и возвратом кредита в срок?\n",
    "   - Как разные цели кредита влияют на его возврат в срок?\n",
    "- 4) Общий вывод.   "
   ]
  },
  {
   "cell_type": "markdown",
   "metadata": {},
   "source": [
    "###   1) Открытие файла с данными и изучение общей информации. "
   ]
  },
  {
   "cell_type": "code",
   "execution_count": 1,
   "metadata": {},
   "outputs": [
    {
     "name": "stdout",
     "output_type": "stream",
     "text": [
      "    children  days_employed  dob_years            education  education_id  \\\n",
      "0          1   -8437.673028         42               высшее             0   \n",
      "1          1   -4024.803754         36              среднее             1   \n",
      "2          0   -5623.422610         33              Среднее             1   \n",
      "3          3   -4124.747207         32              среднее             1   \n",
      "4          0  340266.072047         53              среднее             1   \n",
      "5          0    -926.185831         27               высшее             0   \n",
      "6          0   -2879.202052         43               высшее             0   \n",
      "7          0    -152.779569         50              СРЕДНЕЕ             1   \n",
      "8          2   -6929.865299         35               ВЫСШЕЕ             0   \n",
      "9          0   -2188.756445         41              среднее             1   \n",
      "10         2   -4171.483647         36               высшее             0   \n",
      "11         0    -792.701887         40              среднее             1   \n",
      "12         0            NaN         65              среднее             1   \n",
      "13         0   -1846.641941         54  неоконченное высшее             2   \n",
      "14         0   -1844.956182         56               высшее             0   \n",
      "\n",
      "       family_status  family_status_id gender income_type  debt  \\\n",
      "0    женат / замужем                 0      F   сотрудник     0   \n",
      "1    женат / замужем                 0      F   сотрудник     0   \n",
      "2    женат / замужем                 0      M   сотрудник     0   \n",
      "3    женат / замужем                 0      M   сотрудник     0   \n",
      "4   гражданский брак                 1      F   пенсионер     0   \n",
      "5   гражданский брак                 1      M   компаньон     0   \n",
      "6    женат / замужем                 0      F   компаньон     0   \n",
      "7    женат / замужем                 0      M   сотрудник     0   \n",
      "8   гражданский брак                 1      F   сотрудник     0   \n",
      "9    женат / замужем                 0      M   сотрудник     0   \n",
      "10   женат / замужем                 0      M   компаньон     0   \n",
      "11   женат / замужем                 0      F   сотрудник     0   \n",
      "12  гражданский брак                 1      M   пенсионер     0   \n",
      "13   женат / замужем                 0      F   сотрудник     0   \n",
      "14  гражданский брак                 1      F   компаньон     1   \n",
      "\n",
      "     total_income                            purpose  \n",
      "0   253875.639453                      покупка жилья  \n",
      "1   112080.014102            приобретение автомобиля  \n",
      "2   145885.952297                      покупка жилья  \n",
      "3   267628.550329         дополнительное образование  \n",
      "4   158616.077870                    сыграть свадьбу  \n",
      "5   255763.565419                      покупка жилья  \n",
      "6   240525.971920                  операции с жильем  \n",
      "7   135823.934197                        образование  \n",
      "8    95856.832424              на проведение свадьбы  \n",
      "9   144425.938277            покупка жилья для семьи  \n",
      "10  113943.491460               покупка недвижимости  \n",
      "11   77069.234271  покупка коммерческой недвижимости  \n",
      "12            NaN                    сыграть свадьбу  \n",
      "13  130458.228857            приобретение автомобиля  \n",
      "14  165127.911772         покупка жилой недвижимости  \n",
      "<class 'pandas.core.frame.DataFrame'>\n",
      "RangeIndex: 21525 entries, 0 to 21524\n",
      "Data columns (total 12 columns):\n",
      "children            21525 non-null int64\n",
      "days_employed       19351 non-null float64\n",
      "dob_years           21525 non-null int64\n",
      "education           21525 non-null object\n",
      "education_id        21525 non-null int64\n",
      "family_status       21525 non-null object\n",
      "family_status_id    21525 non-null int64\n",
      "gender              21525 non-null object\n",
      "income_type         21525 non-null object\n",
      "debt                21525 non-null int64\n",
      "total_income        19351 non-null float64\n",
      "purpose             21525 non-null object\n",
      "dtypes: float64(2), int64(5), object(5)\n",
      "memory usage: 2.0+ MB\n",
      "None\n",
      "children               0\n",
      "days_employed       2174\n",
      "dob_years              0\n",
      "education              0\n",
      "education_id           0\n",
      "family_status          0\n",
      "family_status_id       0\n",
      "gender                 0\n",
      "income_type            0\n",
      "debt                   0\n",
      "total_income        2174\n",
      "purpose                0\n",
      "dtype: int64\n"
     ]
    }
   ],
   "source": [
    "import pandas as pd\n",
    "data = pd.read_csv('/datasets/data.csv')\n",
    "print(data.head(15))\n",
    "print(data.info())\n",
    "print(data.isnull().sum())"
   ]
  },
  {
   "cell_type": "markdown",
   "metadata": {},
   "source": [
    "###### Вывод: "
   ]
  },
  {
   "cell_type": "markdown",
   "metadata": {},
   "source": [
    "Размер таблицы и количество данных достаточно большой чтобы можно было сделать определенные выводы.Количество строк составляет - 21525 почти по всем категориям, за исключением двух ( ежемесячный доход и общий трудовой стаж в днях - 19351).Это говорит нам о том что в таблице есть некорректные данные (пропуски).Количество пропусков равно 2174.Пропуски относятся к типу Nan.Так же в таблице есть отрицательные значения, и аномальные(слишком большие значения) значения. "
   ]
  },
  {
   "cell_type": "markdown",
   "metadata": {},
   "source": [
    "###  2) Предобработка данных."
   ]
  },
  {
   "cell_type": "markdown",
   "metadata": {},
   "source": [
    "### Обработка пропусков"
   ]
  },
  {
   "cell_type": "markdown",
   "metadata": {},
   "source": [
    "###### Найдем среднее значение по каждой категории относительно рода занятости."
   ]
  },
  {
   "cell_type": "code",
   "execution_count": 2,
   "metadata": {},
   "outputs": [
    {
     "name": "stdout",
     "output_type": "stream",
     "text": [
      "                  total_income\n",
      "income_type                   \n",
      "безработный      131339.751676\n",
      "в декрете         53829.130729\n",
      "госслужащий      170898.309923\n",
      "компаньон        202417.461462\n",
      "пенсионер        137127.465690\n",
      "предприниматель  499163.144947\n",
      "сотрудник        161380.260488\n",
      "студент           98201.625314\n"
     ]
    }
   ],
   "source": [
    "income_type_mean = data.groupby('income_type')['total_income', 'income_type'].mean()\n",
    "print(income_type_mean)                 \n",
    "                  "
   ]
  },
  {
   "cell_type": "markdown",
   "metadata": {},
   "source": [
    "###### Заменим все пропуска в столбце 'total_income' средним значением для каждой категории относительно рода занятости"
   ]
  },
  {
   "cell_type": "code",
   "execution_count": 3,
   "metadata": {},
   "outputs": [],
   "source": [
    "data.loc[data['income_type']=='пенсионер', 'total_income'] = data.loc[data['income_type']=='пенсионер', 'total_income'].fillna(110179.690761)\n",
    "data.loc[data['income_type']=='безработный', 'total_income'] = data.loc[data['income_type']=='безработный', 'total_income'].fillna(131339.751676)\n",
    "data.loc[data['income_type']=='в декрете', 'total_income'] = data.loc[data['income_type']=='декрете', 'total_income'].fillna(53829.130729)\n",
    "data.loc[data['income_type']=='госслужащий', 'total_income'] = data.loc[data['income_type']=='госслужащий', 'total_income'].fillna(139034.452386)\n",
    "data.loc[data['income_type']=='компаньон', 'total_income'] = data.loc[data['income_type']=='компаньон', 'total_income'].fillna(162401.351555)\n",
    "data.loc[data['income_type']=='предприниматель', 'total_income'] = data.loc[data['income_type']=='предприниматель', 'total_income'].fillna(249581.572474)   \n",
    "data.loc[data['income_type']=='сотрудник', 'total_income'] = data.loc[data['income_type']=='сотрудник', 'total_income'].fillna(133546.457238)    \n",
    "data.loc[data['income_type']=='студент', 'total_income'] = data.loc[data['income_type']=='студент', 'total_income'].fillna(98201.625314)    "
   ]
  },
  {
   "cell_type": "markdown",
   "metadata": {},
   "source": [
    "###### Приведем к модулю значения в столбце 'days_employed', тем самым убрав отрицательные значения"
   ]
  },
  {
   "cell_type": "code",
   "execution_count": 4,
   "metadata": {},
   "outputs": [],
   "source": [
    "data['days_employed'] = data['days_employed'].abs() "
   ]
  },
  {
   "cell_type": "markdown",
   "metadata": {},
   "source": [
    "###### Найдем медиану для и замениим на ее значение все пропуска в столбце 'days_employed'"
   ]
  },
  {
   "cell_type": "code",
   "execution_count": 5,
   "metadata": {},
   "outputs": [],
   "source": [
    "data_median_days_employed = data['days_employed'].median()\n",
    "data['days_employed'] = data['days_employed'].fillna(value=data_median_days_employed)"
   ]
  },
  {
   "cell_type": "markdown",
   "metadata": {},
   "source": [
    "###### Заменим аномально большое количетсво дней стажа (превыщающее 20000 дней на значение медианы)"
   ]
  },
  {
   "cell_type": "code",
   "execution_count": 6,
   "metadata": {},
   "outputs": [
    {
     "name": "stdout",
     "output_type": "stream",
     "text": [
      "    children  days_employed  dob_years            education  education_id  \\\n",
      "0          1    8437.673028         42               высшее             0   \n",
      "1          1    4024.803754         36              среднее             1   \n",
      "2          0    5623.422610         33              Среднее             1   \n",
      "3          3    4124.747207         32              среднее             1   \n",
      "4          0    2194.220567         53              среднее             1   \n",
      "5          0     926.185831         27               высшее             0   \n",
      "6          0    2879.202052         43               высшее             0   \n",
      "7          0     152.779569         50              СРЕДНЕЕ             1   \n",
      "8          2    6929.865299         35               ВЫСШЕЕ             0   \n",
      "9          0    2188.756445         41              среднее             1   \n",
      "10         2    4171.483647         36               высшее             0   \n",
      "11         0     792.701887         40              среднее             1   \n",
      "12         0    2194.220567         65              среднее             1   \n",
      "13         0    1846.641941         54  неоконченное высшее             2   \n",
      "14         0    1844.956182         56               высшее             0   \n",
      "15         1     972.364419         26              среднее             1   \n",
      "16         0    1719.934226         35              среднее             1   \n",
      "17         0    2369.999720         33               высшее             0   \n",
      "18         0    2194.220567         53              среднее             1   \n",
      "19         0   10038.818549         48              СРЕДНЕЕ             1   \n",
      "\n",
      "       family_status  family_status_id gender income_type  debt  \\\n",
      "0    женат / замужем                 0      F   сотрудник     0   \n",
      "1    женат / замужем                 0      F   сотрудник     0   \n",
      "2    женат / замужем                 0      M   сотрудник     0   \n",
      "3    женат / замужем                 0      M   сотрудник     0   \n",
      "4   гражданский брак                 1      F   пенсионер     0   \n",
      "5   гражданский брак                 1      M   компаньон     0   \n",
      "6    женат / замужем                 0      F   компаньон     0   \n",
      "7    женат / замужем                 0      M   сотрудник     0   \n",
      "8   гражданский брак                 1      F   сотрудник     0   \n",
      "9    женат / замужем                 0      M   сотрудник     0   \n",
      "10   женат / замужем                 0      M   компаньон     0   \n",
      "11   женат / замужем                 0      F   сотрудник     0   \n",
      "12  гражданский брак                 1      M   пенсионер     0   \n",
      "13   женат / замужем                 0      F   сотрудник     0   \n",
      "14  гражданский брак                 1      F   компаньон     1   \n",
      "15   женат / замужем                 0      F   сотрудник     0   \n",
      "16   женат / замужем                 0      F   сотрудник     0   \n",
      "17  гражданский брак                 1      M   сотрудник     0   \n",
      "18    вдовец / вдова                 2      F   пенсионер     0   \n",
      "19         в разводе                 3      F   сотрудник     0   \n",
      "\n",
      "     total_income                                 purpose  \n",
      "0   253875.639453                           покупка жилья  \n",
      "1   112080.014102                 приобретение автомобиля  \n",
      "2   145885.952297                           покупка жилья  \n",
      "3   267628.550329              дополнительное образование  \n",
      "4   158616.077870                         сыграть свадьбу  \n",
      "5   255763.565419                           покупка жилья  \n",
      "6   240525.971920                       операции с жильем  \n",
      "7   135823.934197                             образование  \n",
      "8    95856.832424                   на проведение свадьбы  \n",
      "9   144425.938277                 покупка жилья для семьи  \n",
      "10  113943.491460                    покупка недвижимости  \n",
      "11   77069.234271       покупка коммерческой недвижимости  \n",
      "12  110179.690761                         сыграть свадьбу  \n",
      "13  130458.228857                 приобретение автомобиля  \n",
      "14  165127.911772              покупка жилой недвижимости  \n",
      "15  116820.904450  строительство собственной недвижимости  \n",
      "16  289202.704229                            недвижимость  \n",
      "17   90410.586745              строительство недвижимости  \n",
      "18   56823.777243      на покупку подержанного автомобиля  \n",
      "19  242831.107982            на покупку своего автомобиля  \n",
      "<class 'pandas.core.frame.DataFrame'>\n",
      "RangeIndex: 21525 entries, 0 to 21524\n",
      "Data columns (total 12 columns):\n",
      "children            21525 non-null int64\n",
      "days_employed       21525 non-null float64\n",
      "dob_years           21525 non-null int64\n",
      "education           21525 non-null object\n",
      "education_id        21525 non-null int64\n",
      "family_status       21525 non-null object\n",
      "family_status_id    21525 non-null int64\n",
      "gender              21525 non-null object\n",
      "income_type         21525 non-null object\n",
      "debt                21525 non-null int64\n",
      "total_income        21525 non-null float64\n",
      "purpose             21525 non-null object\n",
      "dtypes: float64(2), int64(5), object(5)\n",
      "memory usage: 2.0+ MB\n",
      "None\n",
      "children            0\n",
      "days_employed       0\n",
      "dob_years           0\n",
      "education           0\n",
      "education_id        0\n",
      "family_status       0\n",
      "family_status_id    0\n",
      "gender              0\n",
      "income_type         0\n",
      "debt                0\n",
      "total_income        0\n",
      "purpose             0\n",
      "dtype: int64\n"
     ]
    }
   ],
   "source": [
    "def too_much_days_employed(days):\n",
    "    if days > 20000:\n",
    "        return data_median_days_employed\n",
    "    else:\n",
    "        return days\n",
    "data['days_employed'] = data['days_employed'].apply(too_much_days_employed)   \n",
    "data['total_income'] = data['total_income'].fillna(value=0)\n",
    "print(data.head(20))\n",
    "print(data.info())\n",
    "print(data.isnull().sum())"
   ]
  },
  {
   "cell_type": "markdown",
   "metadata": {},
   "source": [
    "###### Вывод \n",
    "- Сначала я вычислил средние значения для каждой категории граждан.И вставил их соответственно вместо каждого значени Nan в столбце \"income_type\".\n",
    "- Далее в столбце \"days_employed\" я применил модуль, чтобы убрать отрицательные значения.Потом нашел медиану по этому же столбцу, так как в этом столбце есть аномально большие значения, и метод .median лучше подходит для нахождения среднего значения.\n",
    "- Далее вставил вместо значения Nan и аномально больших значений, значение median по столбцу  \"days_employed\".В самом конце вызвал метод info() к таблице, и увидел что в столбце пристутствует одно значние Nan,поэтому пришлось заменить его на ''0''"
   ]
  },
  {
   "cell_type": "markdown",
   "metadata": {},
   "source": [
    "  "
   ]
  },
  {
   "cell_type": "markdown",
   "metadata": {},
   "source": [
    "### Замена типа данных"
   ]
  },
  {
   "cell_type": "code",
   "execution_count": 7,
   "metadata": {},
   "outputs": [
    {
     "name": "stdout",
     "output_type": "stream",
     "text": [
      "<class 'pandas.core.frame.DataFrame'>\n",
      "RangeIndex: 21525 entries, 0 to 21524\n",
      "Data columns (total 12 columns):\n",
      "children            21525 non-null int64\n",
      "days_employed       21525 non-null int64\n",
      "dob_years           21525 non-null int64\n",
      "education           21525 non-null object\n",
      "education_id        21525 non-null int64\n",
      "family_status       21525 non-null object\n",
      "family_status_id    21525 non-null int64\n",
      "gender              21525 non-null object\n",
      "income_type         21525 non-null object\n",
      "debt                21525 non-null int64\n",
      "total_income        21525 non-null int64\n",
      "purpose             21525 non-null object\n",
      "dtypes: int64(7), object(5)\n",
      "memory usage: 2.0+ MB\n",
      "None\n"
     ]
    }
   ],
   "source": [
    "data['days_employed'] = data['days_employed'].astype(int)\n",
    "data['total_income'] = data['total_income'].astype(int)\n",
    "print(data.info())"
   ]
  },
  {
   "cell_type": "markdown",
   "metadata": {},
   "source": [
    "### Вывод"
   ]
  },
  {
   "cell_type": "markdown",
   "metadata": {},
   "source": [
    "В данном пункте перевел данные из типа данных типа float к типу данных integer.\n",
    "Так как если переменная целочисленная – то имеет смысл перевести ее в целочисленный вид"
   ]
  },
  {
   "cell_type": "markdown",
   "metadata": {},
   "source": [
    "### Обработка дубликатов"
   ]
  },
  {
   "cell_type": "code",
   "execution_count": 8,
   "metadata": {},
   "outputs": [
    {
     "data": {
      "text/html": [
       "<div>\n",
       "<style scoped>\n",
       "    .dataframe tbody tr th:only-of-type {\n",
       "        vertical-align: middle;\n",
       "    }\n",
       "\n",
       "    .dataframe tbody tr th {\n",
       "        vertical-align: top;\n",
       "    }\n",
       "\n",
       "    .dataframe thead th {\n",
       "        text-align: right;\n",
       "    }\n",
       "</style>\n",
       "<table border=\"1\" class=\"dataframe\">\n",
       "  <thead>\n",
       "    <tr style=\"text-align: right;\">\n",
       "      <th></th>\n",
       "      <th>children</th>\n",
       "      <th>days_employed</th>\n",
       "      <th>dob_years</th>\n",
       "      <th>education</th>\n",
       "      <th>education_id</th>\n",
       "      <th>family_status</th>\n",
       "      <th>family_status_id</th>\n",
       "      <th>gender</th>\n",
       "      <th>income_type</th>\n",
       "      <th>debt</th>\n",
       "      <th>total_income</th>\n",
       "      <th>purpose</th>\n",
       "    </tr>\n",
       "  </thead>\n",
       "  <tbody>\n",
       "    <tr>\n",
       "      <td>0</td>\n",
       "      <td>1</td>\n",
       "      <td>8437</td>\n",
       "      <td>42</td>\n",
       "      <td>высшее</td>\n",
       "      <td>0</td>\n",
       "      <td>женат / замужем</td>\n",
       "      <td>0</td>\n",
       "      <td>F</td>\n",
       "      <td>сотрудник</td>\n",
       "      <td>0</td>\n",
       "      <td>253875</td>\n",
       "      <td>покупка жилья</td>\n",
       "    </tr>\n",
       "    <tr>\n",
       "      <td>1</td>\n",
       "      <td>1</td>\n",
       "      <td>4024</td>\n",
       "      <td>36</td>\n",
       "      <td>среднее</td>\n",
       "      <td>1</td>\n",
       "      <td>женат / замужем</td>\n",
       "      <td>0</td>\n",
       "      <td>F</td>\n",
       "      <td>сотрудник</td>\n",
       "      <td>0</td>\n",
       "      <td>112080</td>\n",
       "      <td>приобретение автомобиля</td>\n",
       "    </tr>\n",
       "    <tr>\n",
       "      <td>2</td>\n",
       "      <td>0</td>\n",
       "      <td>5623</td>\n",
       "      <td>33</td>\n",
       "      <td>среднее</td>\n",
       "      <td>1</td>\n",
       "      <td>женат / замужем</td>\n",
       "      <td>0</td>\n",
       "      <td>M</td>\n",
       "      <td>сотрудник</td>\n",
       "      <td>0</td>\n",
       "      <td>145885</td>\n",
       "      <td>покупка жилья</td>\n",
       "    </tr>\n",
       "    <tr>\n",
       "      <td>3</td>\n",
       "      <td>3</td>\n",
       "      <td>4124</td>\n",
       "      <td>32</td>\n",
       "      <td>среднее</td>\n",
       "      <td>1</td>\n",
       "      <td>женат / замужем</td>\n",
       "      <td>0</td>\n",
       "      <td>M</td>\n",
       "      <td>сотрудник</td>\n",
       "      <td>0</td>\n",
       "      <td>267628</td>\n",
       "      <td>дополнительное образование</td>\n",
       "    </tr>\n",
       "    <tr>\n",
       "      <td>4</td>\n",
       "      <td>0</td>\n",
       "      <td>2194</td>\n",
       "      <td>53</td>\n",
       "      <td>среднее</td>\n",
       "      <td>1</td>\n",
       "      <td>гражданский брак</td>\n",
       "      <td>1</td>\n",
       "      <td>F</td>\n",
       "      <td>пенсионер</td>\n",
       "      <td>0</td>\n",
       "      <td>158616</td>\n",
       "      <td>сыграть свадьбу</td>\n",
       "    </tr>\n",
       "    <tr>\n",
       "      <td>...</td>\n",
       "      <td>...</td>\n",
       "      <td>...</td>\n",
       "      <td>...</td>\n",
       "      <td>...</td>\n",
       "      <td>...</td>\n",
       "      <td>...</td>\n",
       "      <td>...</td>\n",
       "      <td>...</td>\n",
       "      <td>...</td>\n",
       "      <td>...</td>\n",
       "      <td>...</td>\n",
       "      <td>...</td>\n",
       "    </tr>\n",
       "    <tr>\n",
       "      <td>21449</td>\n",
       "      <td>1</td>\n",
       "      <td>4529</td>\n",
       "      <td>43</td>\n",
       "      <td>среднее</td>\n",
       "      <td>1</td>\n",
       "      <td>гражданский брак</td>\n",
       "      <td>1</td>\n",
       "      <td>F</td>\n",
       "      <td>компаньон</td>\n",
       "      <td>0</td>\n",
       "      <td>224791</td>\n",
       "      <td>операции с жильем</td>\n",
       "    </tr>\n",
       "    <tr>\n",
       "      <td>21450</td>\n",
       "      <td>0</td>\n",
       "      <td>2194</td>\n",
       "      <td>67</td>\n",
       "      <td>среднее</td>\n",
       "      <td>1</td>\n",
       "      <td>женат / замужем</td>\n",
       "      <td>0</td>\n",
       "      <td>F</td>\n",
       "      <td>пенсионер</td>\n",
       "      <td>0</td>\n",
       "      <td>155999</td>\n",
       "      <td>сделка с автомобилем</td>\n",
       "    </tr>\n",
       "    <tr>\n",
       "      <td>21451</td>\n",
       "      <td>1</td>\n",
       "      <td>2113</td>\n",
       "      <td>38</td>\n",
       "      <td>среднее</td>\n",
       "      <td>1</td>\n",
       "      <td>гражданский брак</td>\n",
       "      <td>1</td>\n",
       "      <td>M</td>\n",
       "      <td>сотрудник</td>\n",
       "      <td>1</td>\n",
       "      <td>89672</td>\n",
       "      <td>недвижимость</td>\n",
       "    </tr>\n",
       "    <tr>\n",
       "      <td>21452</td>\n",
       "      <td>3</td>\n",
       "      <td>3112</td>\n",
       "      <td>38</td>\n",
       "      <td>среднее</td>\n",
       "      <td>1</td>\n",
       "      <td>женат / замужем</td>\n",
       "      <td>0</td>\n",
       "      <td>M</td>\n",
       "      <td>сотрудник</td>\n",
       "      <td>1</td>\n",
       "      <td>244093</td>\n",
       "      <td>на покупку своего автомобиля</td>\n",
       "    </tr>\n",
       "    <tr>\n",
       "      <td>21453</td>\n",
       "      <td>2</td>\n",
       "      <td>1984</td>\n",
       "      <td>40</td>\n",
       "      <td>среднее</td>\n",
       "      <td>1</td>\n",
       "      <td>женат / замужем</td>\n",
       "      <td>0</td>\n",
       "      <td>F</td>\n",
       "      <td>сотрудник</td>\n",
       "      <td>0</td>\n",
       "      <td>82047</td>\n",
       "      <td>на покупку автомобиля</td>\n",
       "    </tr>\n",
       "  </tbody>\n",
       "</table>\n",
       "<p>21454 rows × 12 columns</p>\n",
       "</div>"
      ],
      "text/plain": [
       "       children  days_employed  dob_years education  education_id  \\\n",
       "0             1           8437         42    высшее             0   \n",
       "1             1           4024         36   среднее             1   \n",
       "2             0           5623         33   среднее             1   \n",
       "3             3           4124         32   среднее             1   \n",
       "4             0           2194         53   среднее             1   \n",
       "...         ...            ...        ...       ...           ...   \n",
       "21449         1           4529         43   среднее             1   \n",
       "21450         0           2194         67   среднее             1   \n",
       "21451         1           2113         38   среднее             1   \n",
       "21452         3           3112         38   среднее             1   \n",
       "21453         2           1984         40   среднее             1   \n",
       "\n",
       "          family_status  family_status_id gender income_type  debt  \\\n",
       "0       женат / замужем                 0      F   сотрудник     0   \n",
       "1       женат / замужем                 0      F   сотрудник     0   \n",
       "2       женат / замужем                 0      M   сотрудник     0   \n",
       "3       женат / замужем                 0      M   сотрудник     0   \n",
       "4      гражданский брак                 1      F   пенсионер     0   \n",
       "...                 ...               ...    ...         ...   ...   \n",
       "21449  гражданский брак                 1      F   компаньон     0   \n",
       "21450   женат / замужем                 0      F   пенсионер     0   \n",
       "21451  гражданский брак                 1      M   сотрудник     1   \n",
       "21452   женат / замужем                 0      M   сотрудник     1   \n",
       "21453   женат / замужем                 0      F   сотрудник     0   \n",
       "\n",
       "       total_income                       purpose  \n",
       "0            253875                 покупка жилья  \n",
       "1            112080       приобретение автомобиля  \n",
       "2            145885                 покупка жилья  \n",
       "3            267628    дополнительное образование  \n",
       "4            158616               сыграть свадьбу  \n",
       "...             ...                           ...  \n",
       "21449        224791             операции с жильем  \n",
       "21450        155999          сделка с автомобилем  \n",
       "21451         89672                  недвижимость  \n",
       "21452        244093  на покупку своего автомобиля  \n",
       "21453         82047         на покупку автомобиля  \n",
       "\n",
       "[21454 rows x 12 columns]"
      ]
     },
     "execution_count": 8,
     "metadata": {},
     "output_type": "execute_result"
    }
   ],
   "source": [
    "data['education'] = data['education'].str.lower()\n",
    "data.duplicated()\n",
    "data.drop_duplicates().reset_index(drop = True)"
   ]
  },
  {
   "cell_type": "markdown",
   "metadata": {},
   "source": [
    "### Вывод"
   ]
  },
  {
   "cell_type": "markdown",
   "metadata": {},
   "source": [
    "Привел в столбце 'education' все ячейки к одному регистру.Потом посчитал количетво дубликатов - 71.Их возникнование по моему мнению связано с ошибками при заполнении и выгрузке данных.Так же допускаю, появление некоторых дубликатов при заполнении пропусков."
   ]
  },
  {
   "cell_type": "markdown",
   "metadata": {},
   "source": [
    "### Лемматизация"
   ]
  },
  {
   "cell_type": "code",
   "execution_count": 9,
   "metadata": {
    "scrolled": true
   },
   "outputs": [
    {
     "name": "stdout",
     "output_type": "stream",
     "text": [
      "    children  days_employed  dob_years            education  education_id  \\\n",
      "0          1           8437         42               высшее             0   \n",
      "1          1           4024         36              среднее             1   \n",
      "2          0           5623         33              среднее             1   \n",
      "3          3           4124         32              среднее             1   \n",
      "4          0           2194         53              среднее             1   \n",
      "5          0            926         27               высшее             0   \n",
      "6          0           2879         43               высшее             0   \n",
      "7          0            152         50              среднее             1   \n",
      "8          2           6929         35               высшее             0   \n",
      "9          0           2188         41              среднее             1   \n",
      "10         2           4171         36               высшее             0   \n",
      "11         0            792         40              среднее             1   \n",
      "12         0           2194         65              среднее             1   \n",
      "13         0           1846         54  неоконченное высшее             2   \n",
      "14         0           1844         56               высшее             0   \n",
      "15         1            972         26              среднее             1   \n",
      "16         0           1719         35              среднее             1   \n",
      "17         0           2369         33               высшее             0   \n",
      "18         0           2194         53              среднее             1   \n",
      "19         0          10038         48              среднее             1   \n",
      "\n",
      "       family_status  family_status_id gender income_type  debt  total_income  \\\n",
      "0    женат / замужем                 0      F   сотрудник     0        253875   \n",
      "1    женат / замужем                 0      F   сотрудник     0        112080   \n",
      "2    женат / замужем                 0      M   сотрудник     0        145885   \n",
      "3    женат / замужем                 0      M   сотрудник     0        267628   \n",
      "4   гражданский брак                 1      F   пенсионер     0        158616   \n",
      "5   гражданский брак                 1      M   компаньон     0        255763   \n",
      "6    женат / замужем                 0      F   компаньон     0        240525   \n",
      "7    женат / замужем                 0      M   сотрудник     0        135823   \n",
      "8   гражданский брак                 1      F   сотрудник     0         95856   \n",
      "9    женат / замужем                 0      M   сотрудник     0        144425   \n",
      "10   женат / замужем                 0      M   компаньон     0        113943   \n",
      "11   женат / замужем                 0      F   сотрудник     0         77069   \n",
      "12  гражданский брак                 1      M   пенсионер     0        110179   \n",
      "13   женат / замужем                 0      F   сотрудник     0        130458   \n",
      "14  гражданский брак                 1      F   компаньон     1        165127   \n",
      "15   женат / замужем                 0      F   сотрудник     0        116820   \n",
      "16   женат / замужем                 0      F   сотрудник     0        289202   \n",
      "17  гражданский брак                 1      M   сотрудник     0         90410   \n",
      "18    вдовец / вдова                 2      F   пенсионер     0         56823   \n",
      "19         в разводе                 3      F   сотрудник     0        242831   \n",
      "\n",
      "                                   purpose unique_purpose  \n",
      "0                            покупка жилья          жилье  \n",
      "1                  приобретение автомобиля     автомобиль  \n",
      "2                            покупка жилья          жилье  \n",
      "3               дополнительное образование    образование  \n",
      "4                          сыграть свадьбу        свадьба  \n",
      "5                            покупка жилья          жилье  \n",
      "6                        операции с жильем          жилье  \n",
      "7                              образование    образование  \n",
      "8                    на проведение свадьбы        свадьба  \n",
      "9                  покупка жилья для семьи          жилье  \n",
      "10                    покупка недвижимости   недвижимость  \n",
      "11       покупка коммерческой недвижимости   недвижимость  \n",
      "12                         сыграть свадьбу        свадьба  \n",
      "13                 приобретение автомобиля     автомобиль  \n",
      "14              покупка жилой недвижимости   недвижимость  \n",
      "15  строительство собственной недвижимости   недвижимость  \n",
      "16                            недвижимость   недвижимость  \n",
      "17              строительство недвижимости   недвижимость  \n",
      "18      на покупку подержанного автомобиля     автомобиль  \n",
      "19            на покупку своего автомобиля     автомобиль  \n"
     ]
    }
   ],
   "source": [
    "from pymystem3 import Mystem\n",
    "m = Mystem()\n",
    "values = ['свадьба','образование','автомобиль','недвижимость','жилье']\n",
    "def unique_porpose(row):\n",
    "    lemmas = m.lemmatize(row)\n",
    "    for value in values:\n",
    "        if value in lemmas:\n",
    "            return value\n",
    "        \n",
    "data['unique_purpose'] = data['purpose'].apply(unique_porpose)\n",
    "print(data.head(20))\n"
   ]
  },
  {
   "cell_type": "markdown",
   "metadata": {},
   "source": [
    "### Вывод"
   ]
  },
  {
   "cell_type": "markdown",
   "metadata": {},
   "source": [
    " В данном пункте выделил леммы столбца 'purpose' ('свадьба','образование','автомобиль','недвижимость','жилье'), создав отдельный столбец 'unique_purpose'.Операции с недвижимостью и жильем разделил, так как по-моему мнению они разнятся."
   ]
  },
  {
   "cell_type": "markdown",
   "metadata": {},
   "source": [
    "### Категоризация данных"
   ]
  },
  {
   "cell_type": "code",
   "execution_count": 10,
   "metadata": {},
   "outputs": [
    {
     "name": "stdout",
     "output_type": "stream",
     "text": [
      "    children  days_employed  dob_years            education  education_id  \\\n",
      "0          1           8437         42               высшее             0   \n",
      "1          1           4024         36              среднее             1   \n",
      "2          0           5623         33              среднее             1   \n",
      "3          3           4124         32              среднее             1   \n",
      "4          0           2194         53              среднее             1   \n",
      "5          0            926         27               высшее             0   \n",
      "6          0           2879         43               высшее             0   \n",
      "7          0            152         50              среднее             1   \n",
      "8          2           6929         35               высшее             0   \n",
      "9          0           2188         41              среднее             1   \n",
      "10         2           4171         36               высшее             0   \n",
      "11         0            792         40              среднее             1   \n",
      "12         0           2194         65              среднее             1   \n",
      "13         0           1846         54  неоконченное высшее             2   \n",
      "14         0           1844         56               высшее             0   \n",
      "15         1            972         26              среднее             1   \n",
      "16         0           1719         35              среднее             1   \n",
      "17         0           2369         33               высшее             0   \n",
      "18         0           2194         53              среднее             1   \n",
      "19         0          10038         48              среднее             1   \n",
      "\n",
      "       family_status  family_status_id gender income_type  debt  total_income  \\\n",
      "0    женат / замужем                 0      F   сотрудник     0        253875   \n",
      "1    женат / замужем                 0      F   сотрудник     0        112080   \n",
      "2    женат / замужем                 0      M   сотрудник     0        145885   \n",
      "3    женат / замужем                 0      M   сотрудник     0        267628   \n",
      "4   гражданский брак                 1      F   пенсионер     0        158616   \n",
      "5   гражданский брак                 1      M   компаньон     0        255763   \n",
      "6    женат / замужем                 0      F   компаньон     0        240525   \n",
      "7    женат / замужем                 0      M   сотрудник     0        135823   \n",
      "8   гражданский брак                 1      F   сотрудник     0         95856   \n",
      "9    женат / замужем                 0      M   сотрудник     0        144425   \n",
      "10   женат / замужем                 0      M   компаньон     0        113943   \n",
      "11   женат / замужем                 0      F   сотрудник     0         77069   \n",
      "12  гражданский брак                 1      M   пенсионер     0        110179   \n",
      "13   женат / замужем                 0      F   сотрудник     0        130458   \n",
      "14  гражданский брак                 1      F   компаньон     1        165127   \n",
      "15   женат / замужем                 0      F   сотрудник     0        116820   \n",
      "16   женат / замужем                 0      F   сотрудник     0        289202   \n",
      "17  гражданский брак                 1      M   сотрудник     0         90410   \n",
      "18    вдовец / вдова                 2      F   пенсионер     0         56823   \n",
      "19         в разводе                 3      F   сотрудник     0        242831   \n",
      "\n",
      "                                   purpose unique_purpose  \\\n",
      "0                            покупка жилья          жилье   \n",
      "1                  приобретение автомобиля     автомобиль   \n",
      "2                            покупка жилья          жилье   \n",
      "3               дополнительное образование    образование   \n",
      "4                          сыграть свадьбу        свадьба   \n",
      "5                            покупка жилья          жилье   \n",
      "6                        операции с жильем          жилье   \n",
      "7                              образование    образование   \n",
      "8                    на проведение свадьбы        свадьба   \n",
      "9                  покупка жилья для семьи          жилье   \n",
      "10                    покупка недвижимости   недвижимость   \n",
      "11       покупка коммерческой недвижимости   недвижимость   \n",
      "12                         сыграть свадьбу        свадьба   \n",
      "13                 приобретение автомобиля     автомобиль   \n",
      "14              покупка жилой недвижимости   недвижимость   \n",
      "15  строительство собственной недвижимости   недвижимость   \n",
      "16                            недвижимость   недвижимость   \n",
      "17              строительство недвижимости   недвижимость   \n",
      "18      на покупку подержанного автомобиля     автомобиль   \n",
      "19            на покупку своего автомобиля     автомобиль   \n",
      "\n",
      "   normal_counts_children             financial_burden  \n",
      "0                       1  средняя финансовая нагрузка  \n",
      "1                       1  средняя финансовая нагрузка  \n",
      "2                       0   легкая финансовая нагрузка  \n",
      "3                       3  тяжелая финансовая нагрузка  \n",
      "4                       0   легкая финансовая нагрузка  \n",
      "5                       0   легкая финансовая нагрузка  \n",
      "6                       0   легкая финансовая нагрузка  \n",
      "7                       0   легкая финансовая нагрузка  \n",
      "8                       2  средняя финансовая нагрузка  \n",
      "9                       0   легкая финансовая нагрузка  \n",
      "10                      2  средняя финансовая нагрузка  \n",
      "11                      0   легкая финансовая нагрузка  \n",
      "12                      0   легкая финансовая нагрузка  \n",
      "13                      0   легкая финансовая нагрузка  \n",
      "14                      0   легкая финансовая нагрузка  \n",
      "15                      1  средняя финансовая нагрузка  \n",
      "16                      0   легкая финансовая нагрузка  \n",
      "17                      0   легкая финансовая нагрузка  \n",
      "18                      0   легкая финансовая нагрузка  \n",
      "19                      0   легкая финансовая нагрузка  \n"
     ]
    }
   ],
   "source": [
    "data['children'] = data['children'].abs()\n",
    "def too_much_children(children):\n",
    "    if children == 20:\n",
    "        return children == 2\n",
    "    else:\n",
    "        return children\n",
    "data['normal_counts_children'] = data['children'].apply(too_much_children)    \n",
    "\n",
    "\n",
    "def financial_burden(row):\n",
    "    x = row['normal_counts_children']\n",
    "    y = row ['family_status_id']\n",
    "    if x == 0:\n",
    "        return 'легкая финансовая нагрузка'\n",
    "    if x <=2 and y == 0 or y == 1:\n",
    "        return 'средняя финансовая нагрузка'\n",
    "    if x<=2 and y == 2 or y == 3 and y == 4:\n",
    "        return 'тяжелая финансовая нагрузка'\n",
    "    if x <= 3 and y == 0 or y == 1 :\n",
    "        return 'тяжелая финансовая нагрузка'\n",
    "    if x <= 3:\n",
    "        return 'крайне тяжелая,критическая финансовая нагрузка'\n",
    "data['financial_burden'] = data.apply(financial_burden,axis = 1)\n",
    "print(data.head(20))"
   ]
  },
  {
   "cell_type": "markdown",
   "metadata": {},
   "source": [
    "###### Вывод:\n",
    "В данном пункте провел категоризацию по таким признакам как наличие детей, их количество и семейный статус.Создал новый столбец который присваивал конкретному человеку уровень финансовой нагрузки."
   ]
  },
  {
   "cell_type": "markdown",
   "metadata": {},
   "source": [
    "\n",
    " "
   ]
  },
  {
   "cell_type": "markdown",
   "metadata": {},
   "source": [
    "###  3) Ответим на следующие вопросы."
   ]
  },
  {
   "cell_type": "markdown",
   "metadata": {},
   "source": [
    "- 1) Есть ли зависимость между наличием детей и возвратом кредита в срок?"
   ]
  },
  {
   "cell_type": "code",
   "execution_count": 11,
   "metadata": {},
   "outputs": [
    {
     "name": "stdout",
     "output_type": "stream",
     "text": [
      "debt                          0       1     ratio\n",
      "normal_counts_children                           \n",
      "0                       13154.0  1071.0  0.081420\n",
      "1                        4420.0   445.0  0.100679\n",
      "2                        1861.0   194.0  0.104245\n",
      "3                         303.0    27.0  0.089109\n",
      "4                          37.0     4.0  0.108108\n",
      "5                           9.0     NaN       NaN\n"
     ]
    }
   ],
   "source": [
    "data_pivot = data.pivot_table(index='normal_counts_children', columns = ['debt'], values = 'gender' ,  aggfunc='count')\n",
    "data_pivot['ratio'] = data_pivot[1]/data_pivot[0]\n",
    "print(data_pivot)"
   ]
  },
  {
   "cell_type": "markdown",
   "metadata": {},
   "source": [
    "###### Вывод"
   ]
  },
  {
   "cell_type": "markdown",
   "metadata": {},
   "source": [
    "Как мы можем посмотреть по сводной таблице: не большая зависимости между наличием детей,их количеством и возвратом кредита в срок все же есть.Доля тех кто не вернул кредит в срок от тех кто это сделал (не имя детей) состовляет - 0,08.А доля тех кто  не вернул кредит в срок от тех кто это сделал имея детей - состовляет 0.1 (в независимоти от количества детей.   "
   ]
  },
  {
   "cell_type": "markdown",
   "metadata": {},
   "source": [
    "- 2) Есть ли зависимость между семейным положением и возвратом кредита в срок?"
   ]
  },
  {
   "cell_type": "code",
   "execution_count": 12,
   "metadata": {},
   "outputs": [
    {
     "name": "stdout",
     "output_type": "stream",
     "text": [
      "debt                       0    1     ratio\n",
      "family_status                              \n",
      "Не женат / не замужем   2539  274  0.107917\n",
      "в разводе               1110   85  0.076577\n",
      "вдовец / вдова           897   63  0.070234\n",
      "гражданский брак        3789  388  0.102402\n",
      "женат / замужем        11449  931  0.081317\n"
     ]
    }
   ],
   "source": [
    "data_pivot = data.pivot_table(index='family_status', columns='debt', values = 'gender', aggfunc='count')\n",
    "data_pivot['ratio'] = data_pivot[1]/data_pivot[0]\n",
    "print(data_pivot)"
   ]
  },
  {
   "cell_type": "markdown",
   "metadata": {},
   "source": [
    "###### Вывод:\n",
    "Между семейным положением и возвратом кредита в срок так же наблюдается зависимоть,более выраженная чем в предыдущем примере.Люди которые не состоят в официальном браке чаще не выполняют свои обязательства по возвращению кредита в срок по отношению к людям кто состоит в официальном браке, и еще меньше по отношению к людям кто разведен или тем кто потерял своего супруга/супругу."
   ]
  },
  {
   "cell_type": "markdown",
   "metadata": {},
   "source": [
    "- 3) Есть ли зависимость между уровнем дохода и возвратом кредита в срок?"
   ]
  },
  {
   "cell_type": "markdown",
   "metadata": {},
   "source": [
    "Для этого разделим столбец с уровнем дохода на подгруппы (низкий,средний и высокий уровни дохода), и создадим новый столбец \n",
    "'income_level' - уровень дохода.Понему и сформируем сводную таблицу."
   ]
  },
  {
   "cell_type": "code",
   "execution_count": 13,
   "metadata": {},
   "outputs": [
    {
     "name": "stdout",
     "output_type": "stream",
     "text": [
      "debt              0    1     ratio\n",
      "income_level                      \n",
      "высокий доход  6165  581  0.094242\n",
      "низкий доход   1373  101  0.073562\n",
      "средний доход  6301  581  0.092208\n"
     ]
    }
   ],
   "source": [
    "def income(money):\n",
    "    if money <= 70000:\n",
    "        return 'низкий доход'\n",
    "    if money <= 130000:\n",
    "        return 'средний доход'\n",
    "    if money <= 180000:\n",
    "        return 'высокий доход'\n",
    "    \n",
    "data['income_level'] = data['total_income'].apply(income) \n",
    "data_pivot = data.pivot_table(index='income_level', columns='debt', values='gender', aggfunc='count')\n",
    "data_pivot['ratio'] = data_pivot[1]/data_pivot[0]\n",
    "print(data_pivot)"
   ]
  },
  {
   "cell_type": "markdown",
   "metadata": {},
   "source": [
    "###### Вывод "
   ]
  },
  {
   "cell_type": "markdown",
   "metadata": {},
   "source": [
    "Есть обратная зависимость от уровня дохода и возвратом кредита в срок.Как бы это не казалось странным, но люди с болеее низким доходом чаще возвращют кредит в срок по отношению к тем кто этого не делает вовремя."
   ]
  },
  {
   "cell_type": "markdown",
   "metadata": {},
   "source": [
    "- 4) Как разные цели кредита влияют на его возврат в срок?"
   ]
  },
  {
   "cell_type": "code",
   "execution_count": 14,
   "metadata": {},
   "outputs": [
    {
     "name": "stdout",
     "output_type": "stream",
     "text": [
      "debt               0    1     ratio\n",
      "unique_purpose                     \n",
      "автомобиль      3912  403  0.103016\n",
      "жилье           4165  308  0.073950\n",
      "недвижимость    5893  474  0.080434\n",
      "образование     3652  370  0.101314\n",
      "свадьба         2162  186  0.086031\n"
     ]
    }
   ],
   "source": [
    "data = data.pivot_table(index='unique_purpose', columns='debt', values='gender', aggfunc='count')\n",
    "data['ratio'] = data[1]/data[0]\n",
    "print(data)"
   ]
  },
  {
   "cell_type": "markdown",
   "metadata": {},
   "source": [
    "### Вывод"
   ]
  },
  {
   "cell_type": "markdown",
   "metadata": {},
   "source": [
    "Зависимость от цели кредита и его возврата в срок так же наблюдается, как и в первых двух вопросах касательно количества детей и семейного статуса.Как мы можем увидеть в таблице: люди в больщем количестве возвращают кредит в срок если это касается жилья или недвижимости, по отношению к тем кто этого не делает во время."
   ]
  },
  {
   "cell_type": "markdown",
   "metadata": {},
   "source": [
    "# Общий вывод"
   ]
  },
  {
   "cell_type": "markdown",
   "metadata": {},
   "source": [
    "Проведя анализ данный, можно ответить на несколько ключевых вопросов:\n",
    "- 1) При работе с данным были пропуска, неточности, дубликаты и аномальные значения\n",
    "- 2) Из предыдущего пункта можно предположить что выгразка данных была проведенна с ошибками, а так же можно предположить\n",
    "что ошибки были сделаны во время заполнения\n",
    "- 3) И все же проведя работу с данными и приведя их в рабочий вид мы можем сделать некоторые выводы касательно зависимости между количеством детей, семейным статусом и возвратом кредита в срок:\n",
    "    - На мой взгляд наличие, и количество детей не влияет навозврат кредита в срок.\n",
    "    - Но что касается семейного статуса: тут можно удверждать что люди которые находят в браке, или состояли в нем или потеряли в связи со смертью своего супруга/супругу чаще отдают кредит в срок нежели те кто не состоит или не состоял в официальном браке. "
   ]
  },
  {
   "cell_type": "code",
   "execution_count": null,
   "metadata": {},
   "outputs": [],
   "source": []
  }
 ],
 "metadata": {
  "kernelspec": {
   "display_name": "Python 3",
   "language": "python",
   "name": "python3"
  },
  "language_info": {
   "codemirror_mode": {
    "name": "ipython",
    "version": 3
   },
   "file_extension": ".py",
   "mimetype": "text/x-python",
   "name": "python",
   "nbconvert_exporter": "python",
   "pygments_lexer": "ipython3",
   "version": "3.7.6"
  }
 },
 "nbformat": 4,
 "nbformat_minor": 2
}
